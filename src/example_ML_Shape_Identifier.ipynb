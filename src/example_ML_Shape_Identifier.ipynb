# Shape Identification Using Machine Learning and Pytorch
